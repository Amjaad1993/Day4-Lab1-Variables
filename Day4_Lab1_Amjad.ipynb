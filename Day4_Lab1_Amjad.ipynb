{
 "cells": [
  {
   "cell_type": "code",
   "execution_count": 7,
   "id": "7b626808",
   "metadata": {},
   "outputs": [
    {
     "name": "stdout",
     "output_type": "stream",
     "text": [
      "3 3 3\n",
      "4 5 6\n"
     ]
    }
   ],
   "source": [
    "fav_season = \"Spring\" #Define a variable that has a value of your favourite season.\n",
    "x = 1 #Define “x“ variable has an integer value\n",
    "y = 2.5 #Define variable “y” has a float value.\n",
    "a = b = c = 3 #Assign One Value to Multiple Variables\n",
    "j , k , l = 4 , 5 , 6 #Assign Many Values to Multiple Variables.\n",
    "print (a , b , c) #test result\n",
    "print (j , k , l) #test result"
   ]
  }
 ],
 "metadata": {
  "kernelspec": {
   "display_name": "Python 3 (ipykernel)",
   "language": "python",
   "name": "python3"
  },
  "language_info": {
   "codemirror_mode": {
    "name": "ipython",
    "version": 3
   },
   "file_extension": ".py",
   "mimetype": "text/x-python",
   "name": "python",
   "nbconvert_exporter": "python",
   "pygments_lexer": "ipython3",
   "version": "3.9.13"
  }
 },
 "nbformat": 4,
 "nbformat_minor": 5
}
